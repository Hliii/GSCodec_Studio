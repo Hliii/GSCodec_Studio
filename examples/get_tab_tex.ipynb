{
 "cells": [
  {
   "cell_type": "code",
   "execution_count": 18,
   "metadata": {},
   "outputs": [],
   "source": [
    "import numpy as np\n",
    "\n",
    "\n",
    "def tabilize(results, precisions, rank_order, suffixes=None, hlines = []):\n",
    "\n",
    "  def rankify(x, order):\n",
    "    # Turn a vector of values into a list of ranks, while handling ties.\n",
    "    assert len(x.shape) == 1\n",
    "    if order == 0:\n",
    "      return np.full_like(x, 1e5, dtype=np.int32)\n",
    "    u = np.sort(np.unique(x))\n",
    "    if order == 1:\n",
    "      u = u[::-1]\n",
    "    r = np.zeros_like(x, dtype=np.int32)\n",
    "    for ui, uu in enumerate(u):\n",
    "      mask = x == uu\n",
    "      r[mask] = ui\n",
    "    return np.int32(r)\n",
    "\n",
    "  names = results.keys()\n",
    "  data = np.array(list(results.values()))\n",
    "  assert len(names) == len(data)\n",
    "  data = np.array(data)\n",
    "\n",
    "  tags = [' \\cellcolor{tabfirst}',\n",
    "          '\\cellcolor{tabsecond}',\n",
    "          ' \\cellcolor{tabthird}',\n",
    "          '                     ']\n",
    "\n",
    "  max_len = max([len(v) for v in list(names)])\n",
    "  names_padded = [v + ' '*(max_len-len(v)) for v in names]\n",
    "\n",
    "  data_quant = np.round((data * 10.**(np.array(precisions)[None, :]))) / 10.**(np.array(precisions)[None, :])\n",
    "  if suffixes is None:\n",
    "    suffixes = [''] * len(precisions)\n",
    "\n",
    "  tagranks = []\n",
    "  for d in range(data_quant.shape[1]):\n",
    "    tagranks.append(np.clip(rankify(data_quant[:,d], rank_order[d]), 0, len(tags)-1))\n",
    "  tagranks = np.stack(tagranks, -1)\n",
    "\n",
    "  for i_row in range(len(names)):\n",
    "    line = ''\n",
    "    if i_row in hlines:\n",
    "      line += '\\\\hline\\n'\n",
    "    line += names_padded[i_row]\n",
    "    for d in range(data_quant.shape[1]):\n",
    "      line += ' & '\n",
    "      if rank_order[d] != 0 and not np.isnan(data[i_row,d]):\n",
    "        line += tags[tagranks[i_row, d]]\n",
    "      if np.isnan(data[i_row,d]):\n",
    "        line += ' - '\n",
    "      else:\n",
    "        assert precisions[d] >= 0\n",
    "        line += ('{:' + f'0.{precisions[d]}f' + '}').format(data_quant[i_row,d]) + suffixes[d]\n",
    "    if i_row < len(names):\n",
    "      line += ' \\\\\\\\'\n",
    "    print(line)"
   ]
  },
  {
   "cell_type": "code",
   "execution_count": 19,
   "metadata": {},
   "outputs": [
    {
     "name": "stdout",
     "output_type": "stream",
     "text": [
      "That one algorithm    &  \\cellcolor{tabthird}30.52 & \\cellcolor{tabsecond}0.9778 &  \\cellcolor{tabthird}0.1512 &                      17.10 &  \\cellcolor{tabfirst}141 \\\\\n",
      "That other algorithm  & \\cellcolor{tabsecond}32.13 &  \\cellcolor{tabfirst}0.9818 & \\cellcolor{tabsecond}0.0741 & \\cellcolor{tabsecond}8.33 & \\cellcolor{tabsecond}71 \\\\\n",
      "Yet another algorithm &                      19.26 &                      0.8777 &                      0.4331 &  \\cellcolor{tabfirst}6.58 &  \\cellcolor{tabthird}63 \\\\\n",
      "My beloved algorithm  &  \\cellcolor{tabfirst}38.92 &  \\cellcolor{tabthird}0.8977 &  \\cellcolor{tabfirst}0.0512 &  \\cellcolor{tabthird}12.46 &                      29 \\\\\n"
     ]
    }
   ],
   "source": [
    "results = {\n",
    "    'That one algorithm': [30.52436, 0.97777, 0.151243, 17.1, 141],\n",
    "    'That other algorithm': [32.1315, 0.98177, 0.074125, 8.333, 71],\n",
    "    'Yet another algorithm': [19.26456, 0.8777, 0.43312, 6.577, 63],\n",
    "    'My beloved algorithm': [38.924123, 0.8977, 0.051241, 12.456, 29]}\n",
    "precisions = [2, 4, 4, 2, 0]  # How many digits of precision to use.\n",
    "rank_order = [1, 1, -1, -1, 1]  # +1 = higher is better, -1 = lower is better, 0 = do not color code.\n",
    "suffixes = ['', '', '', '', '']  # What string to append after each number.\n",
    "hlines = [] # Where to insert horizontal lines.\n",
    "tabilize(results, precisions, rank_order, suffixes=suffixes, hlines=hlines)"
   ]
  },
  {
   "cell_type": "markdown",
   "metadata": {},
   "source": [
    "Table: Method Comparsion: \n",
    "- For static scene: Visual Scores(PSNR, SSIM, LPIPS), Mem., Rendering Speed(FPS)\n",
    "- For dynamic scene: Visual Scores(PSNR, SSIM, LPIPS), Bitrate, Rendering Speed(FPS)"
   ]
  },
  {
   "cell_type": "code",
   "execution_count": 20,
   "metadata": {},
   "outputs": [
    {
     "ename": "SyntaxError",
     "evalue": "unexpected character after line continuation character (3658951061.py, line 1)",
     "output_type": "error",
     "traceback": [
      "\u001b[0;36m  Cell \u001b[0;32mIn[20], line 1\u001b[0;36m\u001b[0m\n\u001b[0;31m    \\definecolor{tabfirst}{rgb}{1, 0.7, 0.7} % red\u001b[0m\n\u001b[0m                                                  ^\u001b[0m\n\u001b[0;31mSyntaxError\u001b[0m\u001b[0;31m:\u001b[0m unexpected character after line continuation character\n"
     ]
    }
   ],
   "source": [
    "\\definecolor{tabfirst}{rgb}{1, 0.7, 0.7} % red\n",
    "\\definecolor{tabsecond}{rgb}{1, 0.85, 0.7} % orange\n",
    "\\definecolor{tabthird}{rgb}{1, 1, 0.7} % yellow\n",
    "\n",
    "\\begin{table}\n",
    "    \\centering\n",
    "    \\begin{tabular}{l|ccccc}\n",
    "    \\toprule\n",
    "    & PSNR $\\uparrow$ & SSIM $\\uparrow$ & LPIPS $\\downarrow$ & Mem.~(MB) $\\downarrow$ & FPS $\\uparrow$ \\\\ \\midrule\n",
    "\n",
    "% PASTE AREA %\n",
    "\n",
    "That one algorithm    &  \\cellcolor{tabthird}30.52 & \\cellcolor{tabsecond}0.9778 &  \\cellcolor{tabthird}0.1512 &                      17.10 &  \\cellcolor{tabfirst}141 \\\\\n",
    "That other algorithm  & \\cellcolor{tabsecond}32.13 &  \\cellcolor{tabfirst}0.9818 & \\cellcolor{tabsecond}0.0741 & \\cellcolor{tabsecond}8.33 & \\cellcolor{tabsecond}71 \\\\\n",
    "Yet another algorithm &                      19.26 &                      0.8777 &                      0.4331 &  \\cellcolor{tabfirst}6.58 &  \\cellcolor{tabthird}63 \\\\\n",
    "My beloved algorithm  &  \\cellcolor{tabfirst}38.92 &  \\cellcolor{tabthird}0.8977 &  \\cellcolor{tabfirst}0.0512 &  \\cellcolor{tabthird}12.46 &                      29 \\\\\n",
    "\n",
    "% PASTE AREA %\n",
    "\n",
    "    \\bottomrule\n",
    "    \\end{tabular}\n",
    "    \\caption{Wow what great results}\n",
    "    \\label{tab:results}\n",
    "\\end{table}"
   ]
  }
 ],
 "metadata": {
  "kernelspec": {
   "display_name": "gsplat",
   "language": "python",
   "name": "python3"
  },
  "language_info": {
   "codemirror_mode": {
    "name": "ipython",
    "version": 3
   },
   "file_extension": ".py",
   "mimetype": "text/x-python",
   "name": "python",
   "nbconvert_exporter": "python",
   "pygments_lexer": "ipython3",
   "version": "3.8.16"
  }
 },
 "nbformat": 4,
 "nbformat_minor": 2
}
